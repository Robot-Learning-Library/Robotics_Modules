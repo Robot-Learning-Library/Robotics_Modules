{
 "cells": [
  {
   "cell_type": "markdown",
   "metadata": {},
   "source": [
    "# Proportional-Intergral-Differential (PID) Controller Implementation\n",
    "\n",
    "A most compact verison, for single dimensional control:"
   ]
  },
  {
   "cell_type": "code",
   "execution_count": null,
   "metadata": {
    "collapsed": true
   },
   "outputs": [],
   "source": [
    "import time\n",
    "\n",
    "class PID:\n",
    "    \"\"\"PID controller.\"\"\"\n",
    "\n",
    "    def __init__(self, Kp, Ki, Kd, origin_time=None):\n",
    "        if origin_time is None:\n",
    "            origin_time = time.time()\n",
    "\n",
    "        # Gains for each term\n",
    "        self.Kp = Kp\n",
    "        self.Ki = Ki\n",
    "        self.Kd = Kd\n",
    "\n",
    "        # Corrections (outputs)\n",
    "        self.Cp = 0.0\n",
    "        self.Ci = 0.0\n",
    "        self.Cd = 0.0\n",
    "\n",
    "        self.previous_time = origin_time\n",
    "        self.previous_error = 0.0\n",
    "\n",
    "    def Update(self, error, current_time=None):\n",
    "        if current_time is None:\n",
    "            current_time = time.time()\n",
    "        dt = current_time - self.previous_time\n",
    "        if dt <= 0.0:\n",
    "            return 0\n",
    "        de = error - self.previous_error\n",
    "\n",
    "        self.Cp = error\n",
    "        self.Ci += error * dt\n",
    "        self.Cd = de / dt\n",
    "\n",
    "        self.previous_time = current_time\n",
    "        self.previous_error = error\n",
    "\n",
    "        return (\n",
    "            (self.Kp * self.Cp)    # proportional term\n",
    "            + (self.Ki * self.Ci)  # integral term\n",
    "            + (self.Kd * self.Cd)  # derivative term\n",
    "        )"
   ]
  }
 ],
 "metadata": {
  "kernelspec": {
   "display_name": "Python 3",
   "language": "python",
   "name": "python3"
  },
  "language_info": {
   "codemirror_mode": {
    "name": "ipython",
    "version": 3
   },
   "file_extension": ".py",
   "mimetype": "text/x-python",
   "name": "python",
   "nbconvert_exporter": "python",
   "pygments_lexer": "ipython3",
   "version": "3.6.8"
  }
 },
 "nbformat": 4,
 "nbformat_minor": 1
}
