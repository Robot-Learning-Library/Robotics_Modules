{
 "cells": [
  {
   "cell_type": "markdown",
   "metadata": {},
   "source": [
    "# Proportional-Intergral-Differential (PID) Controller Implementation\n",
    "\n",
    "### Description:\n",
    "\n",
    "The **setpoint (i.e. the target)** and **output** are in the **same** space (e.g. both positions or both velocities), thererfore the difference of the two can be taken to give the error term; while the **control** signal given by PID before the process can be in **arbitrary** space (e.g. when output is position space, the control signal can be in velocity space or force space, etc), as long as it can cause the change in the output. \n",
    "<img src=\"./docs/images/pid_control.png\">\n",
    "If **only** use **proportional (P)** term, it can handle the following cases:\n",
    "\n",
    "    i) control position $x$ (output) via setting position $x$ (control) directly;\n",
    "    \n",
    "    ii) control position $x$ (output) via setting velocity $\\dot{x}$ (control);\n",
    "    \n",
    "    iii) control position $x$ (output) via setting force $\\ddot{x}$ (control).\n",
    "\n",
    "In i) and ii), **only** using **proportional (P)** control can work well. In iii), it can lead to overshooting, but gradually it will also converge to the control signal, an additional **derivative (D)** term can speed up the convergence.\n",
    "\n",
    "When there is steady state error, e.g. in iii) case there is also an constant extra force in the plant system, like the gravity, then an **intergral (I)** term has to be used to achieve the control reference. Therefore, we can see that the intergral is **not necessary** for the case when setting position with velocity or force as directly control signals.\n",
    "\n",
    "\n",
    "\n",
    "A tutorial video:\n",
    "https://www.youtube.com/watch?v=wkfEZmsQqiA"
   ]
  },
  {
   "cell_type": "code",
   "execution_count": 1,
   "metadata": {},
   "outputs": [],
   "source": [
    "import PID\n",
    "import time\n",
    "import matplotlib.pyplot as plt\n",
    "import numpy as np\n",
    "from scipy.interpolate import spline\n",
    "%matplotlib inline"
   ]
  },
  {
   "cell_type": "markdown",
   "metadata": {},
   "source": [
    "## PID weights\n",
    "\n",
    "PID controller minimizes error by adjusting a control variable (eg power supplied) to a new value determined by a weighted sum of present (P), past (I), and future (D) error values."
   ]
  },
  {
   "cell_type": "code",
   "execution_count": 14,
   "metadata": {},
   "outputs": [],
   "source": [
    "P = 1.5 # weight current errors more\n",
    "I = 2\n",
    "D = 0.0 # ignore future potential errors "
   ]
  },
  {
   "cell_type": "code",
   "execution_count": 15,
   "metadata": {},
   "outputs": [],
   "source": [
    "L = 50 # number of iterations"
   ]
  },
  {
   "cell_type": "code",
   "execution_count": 16,
   "metadata": {},
   "outputs": [
    {
     "name": "stderr",
     "output_type": "stream",
     "text": [
      "/home/quantumiracle/.local/lib/python3.6/site-packages/ipykernel_launcher.py:28: DeprecationWarning: `spline` is deprecated!\n",
      "spline is deprecated in scipy 0.19.0, use Bspline class instead.\n"
     ]
    }
   ],
   "source": [
    "pid = PID.PID(P, I, D)\n",
    "\n",
    "pid.SetPoint=0.0\n",
    "pid.setSampleTime(0.01)\n",
    "\n",
    "END = L\n",
    "feedback = 0\n",
    "\n",
    "feedback_list = []\n",
    "time_list = []\n",
    "setpoint_list = []\n",
    "\n",
    "for i in range(1, END):\n",
    "    pid.update(feedback)\n",
    "    output = pid.output\n",
    "    if pid.SetPoint > 0:\n",
    "        feedback += (output - (1/i))\n",
    "    if i>9:\n",
    "        pid.SetPoint = 1\n",
    "    time.sleep(0.02)\n",
    "\n",
    "    feedback_list.append(feedback)\n",
    "    setpoint_list.append(pid.SetPoint)\n",
    "    time_list.append(i)\n",
    "\n",
    "time_sm = np.array(time_list)\n",
    "time_smooth = np.linspace(time_sm.min(), time_sm.max(), 300)\n",
    "feedback_smooth = spline(time_list, feedback_list, time_smooth)\n",
    "\n"
   ]
  },
  {
   "cell_type": "markdown",
   "metadata": {},
   "source": [
    "## Visualization\n",
    "\n",
    "green is desired value; blue is actual"
   ]
  },
  {
   "cell_type": "code",
   "execution_count": 17,
   "metadata": {},
   "outputs": [
    {
     "data": {
      "text/plain": [
       "(0.5, 1.5)"
      ]
     },
     "execution_count": 17,
     "metadata": {},
     "output_type": "execute_result"
    },
    {
     "data": {
      "image/png": "[encoded data removed]",
      "text/plain": [
       "<Figure size 432x288 with 1 Axes>"
      ]
     },
     "metadata": {
      "needs_background": "light"
     },
     "output_type": "display_data"
    }
   ],
   "source": [
    "plt.plot(time_smooth, feedback_smooth)\n",
    "plt.plot(time_list, setpoint_list)\n",
    "plt.xlim((0, L))\n",
    "plt.ylim((min(feedback_list)-0.5, max(feedback_list)+0.5))\n",
    "plt.xlabel('time (s)')\n",
    "plt.ylabel('PID (PV)')\n",
    "plt.title('TEST PID')\n",
    "\n",
    "plt.ylim((1-0.5, 1+0.5))"
   ]
  },
  {
   "cell_type": "code",
   "execution_count": null,
   "metadata": {
    "collapsed": true
   },
   "outputs": [],
   "source": []
  }
 ],
 "metadata": {
  "kernelspec": {
   "display_name": "Python 3",
   "language": "python",
   "name": "python3"
  },
  "language_info": {
   "codemirror_mode": {
    "name": "ipython",
    "version": 3
   },
   "file_extension": ".py",
   "mimetype": "text/x-python",
   "name": "python",
   "nbconvert_exporter": "python",
   "pygments_lexer": "ipython3",
   "version": "3.6.8"
  }
 },
 "nbformat": 4,
 "nbformat_minor": 1
}
